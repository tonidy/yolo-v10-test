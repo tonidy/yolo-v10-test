{
 "cells": [
  {
   "cell_type": "markdown",
   "metadata": {
    "slideshow": {
     "slide_type": "slide"
    }
   },
   "source": [
    "# Learning YOLOv10\n",
    "\n",
    "In this tutorial we'll be learn how to run YOLO from Ultralytics."
   ]
  },
  {
   "cell_type": "markdown",
   "metadata": {
    "slideshow": {
     "slide_type": "subslide"
    }
   },
   "source": [
    "## Install Ultralytics"
   ]
  },
  {
   "cell_type": "code",
   "execution_count": 1,
   "metadata": {},
   "outputs": [
    {
     "name": "stdout",
     "output_type": "stream",
     "text": [
      "Ultralytics YOLOv8.2.89 🚀 Python-3.10.14 torch-2.4.1 CPU (Apple M1 Pro)\n",
      "Setup complete ✅ (8 CPUs, 16.0 GB RAM, 393.1/460.4 GB disk)\n"
     ]
    }
   ],
   "source": [
    "%pip install ultralytics\n",
    "import ultralytics # type: ignore\n",
    "ultralytics.checks()"
   ]
  },
  {
   "cell_type": "markdown",
   "metadata": {
    "slideshow": {
     "slide_type": "subslide"
    }
   },
   "source": [
    "## Test Ultralytics"
   ]
  },
  {
   "cell_type": "code",
   "execution_count": 1,
   "metadata": {},
   "outputs": [
    {
     "name": "stdout",
     "output_type": "stream",
     "text": [
      "Ultralytics YOLOv8.2.89 🚀 Python-3.10.14 torch-2.4.1 CPU (Apple M1 Pro)\n",
      "Setup complete ✅ (8 CPUs, 16.0 GB RAM, 393.0/460.4 GB disk)\n"
     ]
    }
   ],
   "source": [
    "import ultralytics # type: ignore\n",
    "ultralytics.checks()"
   ]
  },
  {
   "cell_type": "markdown",
   "metadata": {
    "slideshow": {
     "slide_type": "slide"
    }
   },
   "source": [
    "## Run Inference/Predict model with YOLOv8 (Person)"
   ]
  },
  {
   "cell_type": "code",
   "execution_count": 4,
   "metadata": {},
   "outputs": [
    {
     "name": "stdout",
     "output_type": "stream",
     "text": [
      "Ultralytics YOLOv8.2.89 🚀 Python-3.10.14 torch-2.4.1 CPU (Apple M1 Pro)\n",
      "YOLOv8n summary (fused): 168 layers, 3,151,904 parameters, 0 gradients, 8.7 GFLOPs\n",
      "\n",
      "Downloading https://ultralytics.com/images/zidane.jpg to 'zidane.jpg'...\n",
      "100%|██████████████████████████████████████| 49.2k/49.2k [00:00<00:00, 10.4MB/s]\n",
      "image 1/1 /Users/toni/Work/mplp/Workshop YOLOv10/zidane.jpg: 384x640 2 persons, 1 tie, 48.3ms\n",
      "Speed: 11.2ms preprocess, 48.3ms inference, 0.8ms postprocess per image at shape (1, 3, 384, 640)\n",
      "Results saved to \u001b[1mruns/detect/predict\u001b[0m\n",
      "💡 Learn more at https://docs.ultralytics.com/modes/predict\n"
     ]
    }
   ],
   "source": [
    "# Run inference on an image with YOLOv8n\n",
    "!yolo predict model=yolov8n.pt source='https://ultralytics.com/images/zidane.jpg'"
   ]
  },
  {
   "cell_type": "markdown",
   "metadata": {
    "slideshow": {
     "slide_type": "slide"
    }
   },
   "source": [
    "## Run Inference/Predict model with YOLOv10 (Person)"
   ]
  },
  {
   "cell_type": "code",
   "execution_count": 6,
   "metadata": {},
   "outputs": [
    {
     "name": "stdout",
     "output_type": "stream",
     "text": [
      "Ultralytics YOLOv8.2.89 🚀 Python-3.10.14 torch-2.4.1 CPU (Apple M1 Pro)\n",
      "YOLOv10n summary (fused): 285 layers, 2,762,608 parameters, 0 gradients, 8.6 GFLOPs\n",
      "\n",
      "Found https://ultralytics.com/images/zidane.jpg locally at zidane.jpg\n",
      "image 1/1 /Users/toni/Work/mplp/Workshop YOLOv10/zidane.jpg: 384x640 2 persons, 144.1ms\n",
      "Speed: 1.9ms preprocess, 144.1ms inference, 0.2ms postprocess per image at shape (1, 3, 384, 640)\n",
      "Results saved to \u001b[1mruns/detect/predict3\u001b[0m\n",
      "💡 Learn more at https://docs.ultralytics.com/modes/predict\n"
     ]
    }
   ],
   "source": [
    "# Run inference on an image with YOLOv10n\n",
    "## Object zidane\n",
    "!yolo predict model=yolov10n.pt source='https://ultralytics.com/images/zidane.jpg'"
   ]
  },
  {
   "cell_type": "markdown",
   "metadata": {
    "slideshow": {
     "slide_type": "slide"
    }
   },
   "source": [
    "## Run Inference/Predict model with YOLOv10 (Bus)"
   ]
  },
  {
   "cell_type": "code",
   "execution_count": 7,
   "metadata": {},
   "outputs": [
    {
     "name": "stdout",
     "output_type": "stream",
     "text": [
      "Ultralytics YOLOv8.2.89 🚀 Python-3.10.14 torch-2.4.1 CPU (Apple M1 Pro)\n",
      "YOLOv10n summary (fused): 285 layers, 2,762,608 parameters, 0 gradients, 8.6 GFLOPs\n",
      "\n",
      "Found https://ultralytics.com/images/bus.jpg locally at bus.jpg\n",
      "image 1/1 /Users/toni/Work/mplp/Workshop YOLOv10/bus.jpg: 640x480 4 persons, 1 bus, 123.8ms\n",
      "Speed: 2.3ms preprocess, 123.8ms inference, 0.2ms postprocess per image at shape (1, 3, 640, 480)\n",
      "Results saved to \u001b[1mruns/detect/predict4\u001b[0m\n",
      "💡 Learn more at https://docs.ultralytics.com/modes/predict\n"
     ]
    }
   ],
   "source": [
    "# Run inference on an image with YOLOv10n\n",
    "# Object bus\n",
    "!yolo predict model=yolov10n.pt source='https://ultralytics.com/images/bus.jpg'"
   ]
  }
 ],
 "metadata": {
  "kernelspec": {
   "display_name": "Python 3",
   "language": "python",
   "name": "python3"
  },
  "language_info": {
   "codemirror_mode": {
    "name": "ipython",
    "version": 3
   },
   "file_extension": ".py",
   "mimetype": "text/x-python",
   "name": "python",
   "nbconvert_exporter": "python",
   "pygments_lexer": "ipython3",
   "version": "3.10.14"
  }
 },
 "nbformat": 4,
 "nbformat_minor": 2
}
